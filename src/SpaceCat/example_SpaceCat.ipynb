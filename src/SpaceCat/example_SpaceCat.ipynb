{
 "cells": [
  {
   "cell_type": "markdown",
   "id": "62806307-0f29-4c86-9ed1-f536dbfc8ab4",
   "metadata": {},
   "source": [
    "# SpaceCat"
   ]
  },
  {
   "cell_type": "code",
   "execution_count": null,
   "id": "f1fd89e6-c1dd-467f-b9d3-fc8e6a032677",
   "metadata": {},
   "outputs": [],
   "source": [
    "import os\n",
    "import anndata\n",
    "import pandas as pd\n",
    "\n",
    "from SpaceCat.preprocess import preprocess_table\n",
    "from SpaceCat.features import SpaceCat"
   ]
  },
  {
   "cell_type": "markdown",
   "id": "9a5f92f9-c318-43c9-9139-e2daf738b150",
   "metadata": {},
   "source": [
    "## Cell table preprocessing"
   ]
  },
  {
   "cell_type": "code",
   "execution_count": null,
   "id": "43060651-3045-4a85-8ee5-c74f490a6235",
   "metadata": {},
   "outputs": [],
   "source": [
    "output_dir = ''\n",
    "cell_table = pd.read_csv('')"
   ]
  },
  {
   "cell_type": "code",
   "execution_count": null,
   "id": "beef34b6-d6a0-43b1-95b5-6849c26d620c",
   "metadata": {},
   "outputs": [],
   "source": [
    "# Convert csv to anndata table\n",
    "markers = ['ECAD', 'CK17', 'CD45', 'CD3', 'CD4', 'CD8', 'FOXP3', 'CD20', 'CD56', 'CD14', 'CD68',\n",
    "           'CD163', 'CD11c', 'HLADR', 'HLA1', 'ChyTr', 'Calprotectin', 'FAP', 'SMA', 'Vim', 'Fibronectin',\n",
    "           'Collagen1', 'CD31', 'PDL1','Ki67','GLUT1','CD45RO','CD69', 'PD1','CD57','TBET', 'TCF1',\n",
    "           'CD45RB', 'TIM3','IDO', 'LAG3', 'CD38', 'Fe']\n",
    "\n",
    "cell_data_cols = ['fov', 'label', 'cell_meta_cluster', 'cell_cluster', 'cell_cluster_broad', 'compartment', 'compartment_area', 'area', 'cell_size', 'centroid_dif', 'convex_area', 'convex_hull_resid', \n",
    "                 'eccentricity', 'equivalent_diameter', 'major_axis_equiv_diam_ratio', 'major_axis_length',\n",
    "                 'major_minor_axis_ratio', 'minor_axis_length', 'nc_ratio', 'num_concavities', 'perim_square_over_area',\n",
    "                 'perimeter']\n",
    "centroid_cols = ['centroid-0', 'centroid-1']\n",
    "\n",
    "adata = anndata.AnnData(cell_table.loc[:, markers])\n",
    "adata.obs = pd.merge(cell_table.loc[:, cell_data_cols, ], on = ['fov'])\n",
    "adata.obsm['spatial'] = cell_table.loc[:, centroid_cols].values\n",
    "\n",
    "adata.write_h5ad(os.path.join(output_dir, 'adata', 'adata_table.h5ad'))"
   ]
  },
  {
   "cell_type": "code",
   "execution_count": null,
   "id": "e6917c97-973f-4fb0-af47-ab1ee75a33d9",
   "metadata": {},
   "outputs": [],
   "source": [
    "# Preprocessing (only needs to be run once)\n",
    "functional_marker_thresholds = [['Ki67', 0.002], ['CD38', 0.004], ['CD45RB', 0.001], ['CD45RO', 0.002],\n",
    "                                ['CD57', 0.002], ['CD69', 0.002], ['GLUT1', 0.002], ['IDO', 0.001],\n",
    "                                ['LAG3', 0.002], ['PD1', 0.0005], ['PDL1', 0.001],\n",
    "                                ['HLA1', 0.001], ['HLADR', 0.001], ['TBET', 0.0015], ['TCF1', 0.001],\n",
    "                                ['TIM3', 0.001], ['Vim', 0.002], ['Fe', 0.1]]\n",
    "\n",
    "adata = anndata.read_h5ad(os.path.join(output_dir, 'adata', 'adata_table.h5ad'))\n",
    "adata_processed = preprocess_table(adata, functional_marker_thresholds)\n",
    "\n",
    "adata_processed.write_h5ad(os.path.join(output_dir, 'adata', 'adata_table_processed.h5ad'))"
   ]
  },
  {
   "cell_type": "markdown",
   "id": "83871970-549b-42e7-92dd-288ecddb98e8",
   "metadata": {},
   "source": [
    "## Feature Generation"
   ]
  },
  {
   "cell_type": "code",
   "execution_count": null,
   "id": "6e26f067-49af-440b-8295-4fb6491f3bd9",
   "metadata": {},
   "outputs": [],
   "source": [
    "# Initialize class\n",
    "adata_processed = anndata.read_h5ad(os.path.join(output_dir, 'adata', 'adata_table_processed.h5ad'))\n",
    "\n",
    "features = SpaceCat(adata_processed, image_column='fov', label_column='label', \n",
    "                    cluster_columns=['cell_cluster', 'cell_cluster_broad'], \n",
    "                    compartment_column='compartment')\n",
    "\n",
    "\n",
    "# Generate features and save anndata table\n",
    "adata_processed = features.run_spacecat()\n",
    "\n",
    "adata_processed.write_h5ad(os.path.join(output_dir, 'adata', 'adata_table_processed.h5ad'))"
   ]
  },
  {
   "cell_type": "markdown",
   "id": "afe94f8b-c9ff-4129-9fc1-e444c96be2b6",
   "metadata": {},
   "source": [
    "## Save Output to CSV (optional)"
   ]
  },
  {
   "cell_type": "code",
   "execution_count": null,
   "id": "0d3e3f0b-6d3b-4fb9-b68b-ac004e38a86a",
   "metadata": {},
   "outputs": [],
   "source": [
    "# Save finalized tables to csv \n",
    "os.makedirs(os.path.join(output_dir, 'SpaceCat'), exist_ok=True)\n",
    "\n",
    "adata_processed.uns['combined_feature_data'].to_csv(os.path.join(output_dir, 'SpaceCat', 'combined_feature_data.csv'))\n",
    "adata_processed.uns['combined_feature_data_filtered'].to_csv(os.path.join(output_dir, 'SpaceCat', 'combined_feature_data_filtered.csv'))\n",
    "adata_processed.uns['feature_metadata'].to_csv(os.path.join(output_dir, 'SpaceCat', 'feature_metadata.csv'))\n",
    "adata_processed.uns['excluded_features'].to_csv(os.path.join(output_dir, 'SpaceCat', 'excluded_features.csv'))"
   ]
  }
 ],
 "metadata": {
  "kernelspec": {
   "display_name": "Python 3 (ipykernel)",
   "language": "python",
   "name": "python3"
  },
  "language_info": {
   "codemirror_mode": {
    "name": "ipython",
    "version": 3
   },
   "file_extension": ".py",
   "mimetype": "text/x-python",
   "name": "python",
   "nbconvert_exporter": "python",
   "pygments_lexer": "ipython3",
   "version": "3.10.14"
  }
 },
 "nbformat": 4,
 "nbformat_minor": 5
}
